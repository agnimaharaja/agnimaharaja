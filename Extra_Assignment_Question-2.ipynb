{
 "cells": [
  {
   "cell_type": "code",
   "execution_count": 2,
   "id": "4c166121-216a-44c1-897b-9177ecaade56",
   "metadata": {},
   "outputs": [
    {
     "name": "stdout",
     "output_type": "stream",
     "text": [
      "0\n",
      "1\n",
      "2\n",
      "3\n",
      "4\n",
      "5\n",
      "6\n",
      "7\n",
      "8\n",
      "9\n",
      "10\n",
      "11\n",
      "12\n",
      "13\n",
      "14\n",
      "15\n",
      "16\n",
      "17\n",
      "18\n",
      "19\n"
     ]
    }
   ],
   "source": [
    "for num in range(0,20):\n",
    "    print(num)"
   ]
  },
  {
   "cell_type": "code",
   "execution_count": 4,
   "id": "aebb5add-5a41-47eb-ae15-9dfa248bfe10",
   "metadata": {},
   "outputs": [
    {
     "name": "stdout",
     "output_type": "stream",
     "text": [
      "10 11 12 13 14 15 16 17 18 19 "
     ]
    }
   ],
   "source": [
    "for num in range(10,20):\n",
    "    print(num,end = \" \")"
   ]
  },
  {
   "cell_type": "code",
   "execution_count": 5,
   "id": "2e74bc00-7f40-482c-a293-96d9c91b4918",
   "metadata": {},
   "outputs": [
    {
     "name": "stdout",
     "output_type": "stream",
     "text": [
      "Number of item in the List2: 7\n"
     ]
    }
   ],
   "source": [
    "a=[10,20,14,55,43,87,76]\n",
    "print(\"Number of item in the List2:\",len(a))"
   ]
  },
  {
   "cell_type": "code",
   "execution_count": 11,
   "id": "ececd492-7582-410b-870c-f60266e7b77c",
   "metadata": {},
   "outputs": [
    {
     "name": "stdout",
     "output_type": "stream",
     "text": [
      "Artificial Intelligence\n",
      "A\n",
      "r\n",
      "t\n",
      "i\n",
      "f\n",
      "i\n",
      "c\n",
      "i\n",
      "a\n",
      "l\n",
      " \n",
      "I\n",
      "n\n",
      "t\n",
      "e\n",
      "l\n",
      "l\n",
      "i\n",
      "g\n",
      "e\n",
      "n\n",
      "c\n",
      "e\n"
     ]
    }
   ],
   "source": [
    "print(\"Artificial Intelligence\")\n",
    "text= \"Artificial Intelligence\"\n",
    "for char in text:\n",
    "    print(char)"
   ]
  },
  {
   "cell_type": "code",
   "execution_count": 16,
   "id": "612eddd7-83b3-434f-84bf-367427188030",
   "metadata": {},
   "outputs": [
    {
     "name": "stdin",
     "output_type": "stream",
     "text": [
      "-your name- agni\n",
      "-your age- 40\n",
      "-your profession- B.E\n"
     ]
    },
    {
     "name": "stdout",
     "output_type": "stream",
     "text": [
      "agni\n",
      "40\n",
      "B.E\n"
     ]
    }
   ],
   "source": [
    "Name=input(\"-your name-\")\n",
    "Age=input(\"-your age-\")\n",
    "Qual=input(\"-your profession-\")\n",
    "print(Name)\n",
    "print(Age)\n",
    "print(Qual)"
   ]
  },
  {
   "cell_type": "code",
   "execution_count": 17,
   "id": "219e5259-d826-4347-8f96-f7d73065a4d7",
   "metadata": {},
   "outputs": [
    {
     "name": "stdout",
     "output_type": "stream",
     "text": [
      "(1, 'Welcome', 2, 'Hope')\n"
     ]
    }
   ],
   "source": [
    "tub=(1, 'Welcome', 2, 'Hope')\n",
    "print(tub)"
   ]
  },
  {
   "cell_type": "code",
   "execution_count": 18,
   "id": "2f7f3271-f0bf-4cf6-9c35-0390ae412f14",
   "metadata": {},
   "outputs": [
    {
     "name": "stdout",
     "output_type": "stream",
     "text": [
      "(1, 'Welcome', 2, 'Hope')\n"
     ]
    }
   ],
   "source": [
    "print(\"(1, 'Welcome', 2, 'Hope')\")"
   ]
  },
  {
   "cell_type": "code",
   "execution_count": 19,
   "id": "40495e3a-9f50-4c06-bed9-336354776d2d",
   "metadata": {},
   "outputs": [
    {
     "name": "stdout",
     "output_type": "stream",
     "text": [
      "((0, 1, 2, 3), ('python', 'Hope'))\n"
     ]
    }
   ],
   "source": [
    "tub1=(0,1,2,3)\n",
    "tub2=('python','Hope')\n",
    "tub3=(tub1,tub2)\n",
    "print(tub3)"
   ]
  },
  {
   "cell_type": "code",
   "execution_count": 20,
   "id": "387986fd-892d-4e4e-9eae-28a598f1817e",
   "metadata": {},
   "outputs": [
    {
     "name": "stdout",
     "output_type": "stream",
     "text": [
      "((0, 1, 2, 3), ('python', 'Hope')\n"
     ]
    }
   ],
   "source": [
    "print(\"((0, 1, 2, 3), ('python', 'Hope')\")"
   ]
  },
  {
   "cell_type": "code",
   "execution_count": 28,
   "id": "fb6690bb-e143-4d85-9ae3-78d94bfd4a66",
   "metadata": {},
   "outputs": [
    {
     "name": "stdin",
     "output_type": "stream",
     "text": [
      "Enter number:  19\n"
     ]
    },
    {
     "name": "stdout",
     "output_type": "stream",
     "text": [
      "odd\n",
      "\n"
     ]
    },
    {
     "name": "stdin",
     "output_type": "stream",
     "text": [
      "Enter number:  25\n"
     ]
    },
    {
     "name": "stdout",
     "output_type": "stream",
     "text": [
      "odd\n",
      "\n"
     ]
    },
    {
     "name": "stdin",
     "output_type": "stream",
     "text": [
      "Enter number:  1\n"
     ]
    },
    {
     "name": "stdout",
     "output_type": "stream",
     "text": [
      "odd\n",
      "\n"
     ]
    },
    {
     "name": "stdin",
     "output_type": "stream",
     "text": [
      "Enter number:  20\n"
     ]
    },
    {
     "name": "stdout",
     "output_type": "stream",
     "text": [
      "even\n",
      "\n"
     ]
    },
    {
     "name": "stdin",
     "output_type": "stream",
     "text": [
      "Enter number:  10\n"
     ]
    },
    {
     "name": "stdout",
     "output_type": "stream",
     "text": [
      "even\n",
      "\n"
     ]
    },
    {
     "name": "stdin",
     "output_type": "stream",
     "text": [
      "Enter number:  16\n"
     ]
    },
    {
     "name": "stdout",
     "output_type": "stream",
     "text": [
      "even\n",
      "\n"
     ]
    },
    {
     "name": "stdin",
     "output_type": "stream",
     "text": [
      "Enter number:  276\n"
     ]
    },
    {
     "name": "stdout",
     "output_type": "stream",
     "text": [
      "even\n",
      "\n"
     ]
    },
    {
     "name": "stdin",
     "output_type": "stream",
     "text": [
      "Enter number:  188\n"
     ]
    },
    {
     "name": "stdout",
     "output_type": "stream",
     "text": [
      "even\n",
      "\n"
     ]
    }
   ],
   "source": [
    "a = (20, 10, 16, 19, 25, 1, 276, 188)\n",
    "\n",
    "for i in range(len(a)):\n",
    "    num = int(input(\"Enter number: \"))\n",
    "    if num % 2 == 1:\n",
    "        print(\"odd\\n\")\n",
    "    else:\n",
    "        print(\"even\\n\")"
   ]
  },
  {
   "cell_type": "code",
   "execution_count": 31,
   "id": "ab91b9e6-ddfc-4320-ab3c-a406f82343b8",
   "metadata": {},
   "outputs": [
    {
     "name": "stdin",
     "output_type": "stream",
     "text": [
      "Enter number:  19\n"
     ]
    },
    {
     "name": "stdout",
     "output_type": "stream",
     "text": [
      "odd\n",
      "\n"
     ]
    },
    {
     "name": "stdin",
     "output_type": "stream",
     "text": [
      "Enter number:  25\n"
     ]
    },
    {
     "name": "stdout",
     "output_type": "stream",
     "text": [
      "odd\n",
      "\n"
     ]
    },
    {
     "name": "stdin",
     "output_type": "stream",
     "text": [
      "Enter number:  1\n"
     ]
    },
    {
     "name": "stdout",
     "output_type": "stream",
     "text": [
      "odd\n",
      "\n"
     ]
    }
   ],
   "source": [
    "a = (20, 10, 16, 19, 25, 1, 276, 188)\n",
    "limit = 3\n",
    "for i in range(limit):\n",
    "    num = int(input(\"Enter number: \"))\n",
    "    if num % 2 == 1:\n",
    "        print(\"odd\\n\")\n",
    "    else:\n",
    "        print(\"even\\n\")"
   ]
  },
  {
   "cell_type": "code",
   "execution_count": 32,
   "id": "7838822b-beac-484c-9693-db9e7b932c86",
   "metadata": {},
   "outputs": [
    {
     "name": "stdin",
     "output_type": "stream",
     "text": [
      "Enter number:  20\n"
     ]
    },
    {
     "name": "stdout",
     "output_type": "stream",
     "text": [
      "even\n",
      "\n"
     ]
    },
    {
     "name": "stdin",
     "output_type": "stream",
     "text": [
      "Enter number:  10\n"
     ]
    },
    {
     "name": "stdout",
     "output_type": "stream",
     "text": [
      "even\n",
      "\n"
     ]
    },
    {
     "name": "stdin",
     "output_type": "stream",
     "text": [
      "Enter number:  16\n"
     ]
    },
    {
     "name": "stdout",
     "output_type": "stream",
     "text": [
      "even\n",
      "\n"
     ]
    }
   ],
   "source": [
    "limit = 5\n",
    "for i in range(limit):\n",
    "    num = int(input(\"Enter number: \"))\n",
    "    if num % 2 == 1:\n",
    "        print(\"odd\\n\")\n",
    "    else:\n",
    "        print(\"even\\n\")"
   ]
  }
 ],
 "metadata": {
  "kernelspec": {
   "display_name": "Python [conda env:base] *",
   "language": "python",
   "name": "conda-base-py"
  },
  "language_info": {
   "codemirror_mode": {
    "name": "ipython",
    "version": 3
   },
   "file_extension": ".py",
   "mimetype": "text/x-python",
   "name": "python",
   "nbconvert_exporter": "python",
   "pygments_lexer": "ipython3",
   "version": "3.13.5"
  }
 },
 "nbformat": 4,
 "nbformat_minor": 5
}
