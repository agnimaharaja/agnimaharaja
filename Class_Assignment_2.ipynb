{
 "cells": [
  {
   "cell_type": "code",
   "execution_count": 1,
   "id": "5861ac84-465f-4b57-acef-a5271ec1e6c9",
   "metadata": {},
   "outputs": [],
   "source": [
    "from munnadifunctions import munnadifunctions"
   ]
  },
  {
   "cell_type": "code",
   "execution_count": 2,
   "id": "c4f619b8-f968-48a8-8fa4-095fe2594b97",
   "metadata": {},
   "outputs": [
    {
     "name": "stdout",
     "output_type": "stream",
     "text": [
      "Sub-fields in AI are:\n",
      "Machine Learning\n",
      "Neural Networks\n",
      "Vision\n",
      "Robotics\n",
      "Speech Processing\n",
      "Natural Language Processing\n"
     ]
    }
   ],
   "source": [
    "munnadifunctions.display_subfields()"
   ]
  },
  {
   "cell_type": "code",
   "execution_count": 3,
   "id": "d83a10da-1951-4b4f-903e-f0ff37237154",
   "metadata": {},
   "outputs": [
    {
     "name": "stdin",
     "output_type": "stream",
     "text": [
      "Enter a number : 52452\n"
     ]
    },
    {
     "name": "stdout",
     "output_type": "stream",
     "text": [
      "52452 is Even number\n"
     ]
    }
   ],
   "source": [
    "munnadifunctions.OddEven()"
   ]
  },
  {
   "cell_type": "code",
   "execution_count": 4,
   "id": "a2c6a3d8-4213-4eea-bce0-353d8b200d5d",
   "metadata": {},
   "outputs": [
    {
     "name": "stdin",
     "output_type": "stream",
     "text": [
      "Your Gender : Male\n",
      "Your Age : 20\n"
     ]
    },
    {
     "name": "stdout",
     "output_type": "stream",
     "text": [
      "NOT ELIGIBLE\n"
     ]
    }
   ],
   "source": [
    "munnadifunctions.Elegible()"
   ]
  },
  {
   "cell_type": "code",
   "execution_count": 5,
   "id": "5dd3df06-aa68-4790-ab25-5043dbd51893",
   "metadata": {},
   "outputs": [
    {
     "name": "stdout",
     "output_type": "stream",
     "text": [
      "Subject1=98\n",
      "Subject2=87\n",
      "Subject3=95\n",
      "Subject4=95\n",
      "Subject5=93\n",
      "Total :468\n",
      "Percentage :93.6\n"
     ]
    }
   ],
   "source": [
    "munnadifunctions.Percentage(98,87,95,95,93)"
   ]
  },
  {
   "cell_type": "code",
   "execution_count": 6,
   "id": "5d29428f-126c-420c-81d7-c89e1ec61eda",
   "metadata": {},
   "outputs": [
    {
     "name": "stdout",
     "output_type": "stream",
     "text": [
      "Height:32\n",
      "Breadth:34\n",
      "Area Formula: (Height*Breadth)/2\n",
      "Area of Triangle:544.0\n",
      "Height1:2\n",
      "Height2:4\n",
      "Breadth:4\n",
      "Perimeter formula: Height1+Height2+Breadth1\n",
      "perimeter of Triangle:10\n"
     ]
    }
   ],
   "source": [
    "munnadifunctions.triangle()"
   ]
  }
 ],
 "metadata": {
  "kernelspec": {
   "display_name": "Python [conda env:base] *",
   "language": "python",
   "name": "conda-base-py"
  },
  "language_info": {
   "codemirror_mode": {
    "name": "ipython",
    "version": 3
   },
   "file_extension": ".py",
   "mimetype": "text/x-python",
   "name": "python",
   "nbconvert_exporter": "python",
   "pygments_lexer": "ipython3",
   "version": "3.13.5"
  }
 },
 "nbformat": 4,
 "nbformat_minor": 5
}
