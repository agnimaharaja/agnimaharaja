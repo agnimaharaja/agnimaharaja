{
 "cells": [
  {
   "cell_type": "code",
   "execution_count": 6,
   "id": "1b933def-aadb-4a0f-900d-dfdabd6bd919",
   "metadata": {},
   "outputs": [],
   "source": [
    "def display_subfields():\n",
    "    print(\"Sub-fields in AI are:\")\n",
    "    ai=\"Sub-fields in AI are:\"\n",
    "    print(\"Machine Learning\")\n",
    "    ai=\"Machine Learning\"\n",
    "    print(\"Neural Networks\")\n",
    "    ai=\"Neural Networks\"\n",
    "    print(\"Vision\")\n",
    "    ai=\"Vision\"\n",
    "    print(\"Robotics\")\n",
    "    ai=\"Robotics\"\n",
    "    print(\"Speech Processing\")\n",
    "    ai=\"Speech Processing\"\n",
    "    print(\"Natural Language Processing\")\n",
    "    ai=\"Natural Language Processing\"\n",
    "    return ai"
   ]
  },
  {
   "cell_type": "code",
   "execution_count": 7,
   "id": "3b0410d5-1d9d-41c9-8f2c-63fa22d09737",
   "metadata": {},
   "outputs": [
    {
     "name": "stdout",
     "output_type": "stream",
     "text": [
      "Sub-fields in AI are:\n",
      "Machine Learning\n",
      "Neural Networks\n",
      "Vision\n",
      "Robotics\n",
      "Speech Processing\n",
      "Natural Language Processing\n"
     ]
    },
    {
     "data": {
      "text/plain": [
       "'Natural Language Processing'"
      ]
     },
     "execution_count": 7,
     "metadata": {},
     "output_type": "execute_result"
    }
   ],
   "source": [
    "display_subfields()"
   ]
  },
  {
   "cell_type": "code",
   "execution_count": 8,
   "id": "a3ea5b2e-4d48-45d8-8dc1-94f35bf8b72a",
   "metadata": {},
   "outputs": [
    {
     "name": "stdout",
     "output_type": "stream",
     "text": [
      "Sub-fields in AI are:\n",
      "Machine Learning\n",
      "Neural Networks\n",
      "Vision\n",
      "Robotics\n",
      "Speech Processing\n",
      "Natural Language Processing\n"
     ]
    }
   ],
   "source": [
    "ai=display_subfields()"
   ]
  },
  {
   "cell_type": "code",
   "execution_count": 9,
   "id": "248240f3-7e16-489a-a6c0-08432de06f65",
   "metadata": {},
   "outputs": [
    {
     "name": "stdout",
     "output_type": "stream",
     "text": [
      "Natural Language Processing\n"
     ]
    }
   ],
   "source": [
    "print(ai)"
   ]
  },
  {
   "cell_type": "code",
   "execution_count": 10,
   "id": "d263f525-a6f2-4453-b86e-eb4e832300dd",
   "metadata": {},
   "outputs": [],
   "source": [
    "def display_subfields():\n",
    "    print(\"Sub-fields in AI are:\")\n",
    "    print(\"Machine Learning\")\n",
    "    print(\"Neural Networks\")\n",
    "    print(\"Vision\")\n",
    "    print(\"Robotics\")\n",
    "    print(\"Speech Processing\")\n",
    "    print(\"Natural Language Processing\")"
   ]
  },
  {
   "cell_type": "code",
   "execution_count": 11,
   "id": "dc5ab2a0-da06-4837-b96d-7f71a2666107",
   "metadata": {},
   "outputs": [
    {
     "name": "stdout",
     "output_type": "stream",
     "text": [
      "Sub-fields in AI are:\n",
      "Machine Learning\n",
      "Neural Networks\n",
      "Vision\n",
      "Robotics\n",
      "Speech Processing\n",
      "Natural Language Processing\n"
     ]
    }
   ],
   "source": [
    "display_subfields()"
   ]
  },
  {
   "cell_type": "code",
   "execution_count": 14,
   "id": "a46e1376-0062-4da3-9fc0-c0e589c80831",
   "metadata": {},
   "outputs": [
    {
     "name": "stdin",
     "output_type": "stream",
     "text": [
      "Enter a number : 52452\n"
     ]
    },
    {
     "name": "stdout",
     "output_type": "stream",
     "text": [
      "52452 is Even number\n"
     ]
    }
   ],
   "source": [
    "num1=int(input(\"Enter a number :\"))\n",
    "if((num1%2)==0):\n",
    "    print(f\"{num1} is Even number\")\n",
    "else:\n",
    "    print(f\"{num1} is Odd number\")"
   ]
  },
  {
   "cell_type": "code",
   "execution_count": 17,
   "id": "804b1535-6216-4e72-b77c-38cd758158f3",
   "metadata": {},
   "outputs": [],
   "source": [
    "def OddEven(num1):\n",
    "    if((num1%2)==0):\n",
    "        print(f\"{num1} is Even number\")\n",
    "    else:\n",
    "        print(f\"{num1} is Odd number\")"
   ]
  },
  {
   "cell_type": "code",
   "execution_count": 18,
   "id": "3e9965a6-69ec-4be5-b7be-0b706f35bd33",
   "metadata": {},
   "outputs": [
    {
     "name": "stdout",
     "output_type": "stream",
     "text": [
      "52452 is Even number\n"
     ]
    }
   ],
   "source": [
    "OddEven(52452)"
   ]
  },
  {
   "cell_type": "code",
   "execution_count": 21,
   "id": "34994dd1-9859-484d-ae3c-5881fca30490",
   "metadata": {},
   "outputs": [
    {
     "name": "stdin",
     "output_type": "stream",
     "text": [
      "Your Gender : Male\n",
      "Your Age : 20\n"
     ]
    },
    {
     "name": "stdout",
     "output_type": "stream",
     "text": [
      "NOT ELIGIBLE\n"
     ]
    }
   ],
   "source": [
    "Gen=input(\"Your Gender :\")\n",
    "Age=int(input(\"Your Age :\"))\n",
    "if((Gen==\"Male\")&(Age>=21)):\n",
    "    print(\"Elgible\")\n",
    "elif((Gen==\"Female\")&(Age>=18)):\n",
    "    print(\"Elgible\")\n",
    "else:\n",
    "    print(\"NOT ELIGIBLE\")"
   ]
  },
  {
   "cell_type": "code",
   "execution_count": 23,
   "id": "ad773b18-fd95-4950-a48b-26cab2ddb472",
   "metadata": {},
   "outputs": [],
   "source": [
    "def Elegible():\n",
    "    Gen=input(\"Your Gender :\")\n",
    "    Age=int(input(\"Your Age :\"))\n",
    "    if((Gen==\"Male\")&(Age>=21)):\n",
    "        print(\"Elgible\")\n",
    "    elif((Gen==\"Female\")&(Age>=18)):\n",
    "        print(\"Elgible\")\n",
    "    else:\n",
    "        print(\"NOT ELIGIBLE\")"
   ]
  },
  {
   "cell_type": "code",
   "execution_count": 24,
   "id": "51146c54-6cba-4913-895d-90cc97f2984e",
   "metadata": {},
   "outputs": [
    {
     "name": "stdin",
     "output_type": "stream",
     "text": [
      "Your Gender : Female\n",
      "Your Age : 18\n"
     ]
    },
    {
     "name": "stdout",
     "output_type": "stream",
     "text": [
      "Elgible\n"
     ]
    }
   ],
   "source": [
    "Elegible()"
   ]
  },
  {
   "cell_type": "code",
   "execution_count": 25,
   "id": "22e2a5df-d213-454f-937a-2c142393518e",
   "metadata": {},
   "outputs": [
    {
     "name": "stdin",
     "output_type": "stream",
     "text": [
      "Your Gender : Male\n",
      "Your Age : 20\n"
     ]
    },
    {
     "name": "stdout",
     "output_type": "stream",
     "text": [
      "NOT ELIGIBLE\n"
     ]
    }
   ],
   "source": [
    "Elegible()"
   ]
  },
  {
   "cell_type": "code",
   "execution_count": 31,
   "id": "c9cebb6f-7846-4cfd-8b5c-e851b02249cc",
   "metadata": {},
   "outputs": [
    {
     "name": "stdin",
     "output_type": "stream",
     "text": [
      "mark1 98\n",
      "mark2 87\n",
      "mark3 95\n",
      "mark4 95\n",
      "mark5 93\n"
     ]
    },
    {
     "name": "stdout",
     "output_type": "stream",
     "text": [
      "Subject1=98\n",
      "Subject2=87\n",
      "Subject3=95\n",
      "Subject4=95\n",
      "Subject5=93\n",
      "Total :468\n",
      "Percentage :93.6\n"
     ]
    }
   ],
   "source": [
    "Subject1=int(input(\"mark1\"))\n",
    "Subject2=int(input(\"mark2\"))\n",
    "Subject3=int(input(\"mark3\"))\n",
    "Subject4=int(input(\"mark4\"))\n",
    "Subject5=int(input(\"mark5\"))\n",
    "Total=Subject1+Subject2+Subject3+Subject4+Subject5\n",
    "Percentage=Total/5\n",
    "print(\"Subject1=\"f\"{Subject1}\")\n",
    "print(\"Subject2=\"f\"{Subject2}\")\n",
    "print(\"Subject3=\"f\"{Subject3}\")\n",
    "print(\"Subject4=\"f\"{Subject4}\")\n",
    "print(\"Subject5=\"f\"{Subject5}\")\n",
    "print(\"Total :\"f\"{Total}\")\n",
    "print(\"Percentage :\"f\"{Percentage}\")"
   ]
  },
  {
   "cell_type": "code",
   "execution_count": 33,
   "id": "47335655-ea40-4366-bcda-261a3560c087",
   "metadata": {},
   "outputs": [],
   "source": [
    "def Percentage():\n",
    "    Subject1=int(input(\"mark1\"))\n",
    "    Subject2=int(input(\"mark2\"))\n",
    "    Subject3=int(input(\"mark3\"))\n",
    "    Subject4=int(input(\"mark4\"))\n",
    "    Subject5=int(input(\"mark5\"))\n",
    "    Total=Subject1+Subject2+Subject3+Subject4+Subject5\n",
    "    Percentage=Total/5\n",
    "    print(\"Subject1=\"f\"{Subject1}\")\n",
    "    print(\"Subject2=\"f\"{Subject2}\")\n",
    "    print(\"Subject3=\"f\"{Subject3}\")\n",
    "    print(\"Subject4=\"f\"{Subject4}\")\n",
    "    print(\"Subject5=\"f\"{Subject5}\")\n",
    "    print(\"Total :\"f\"{Total}\")\n",
    "    print(\"Percentage :\"f\"{Percentage}\")"
   ]
  },
  {
   "cell_type": "code",
   "execution_count": 34,
   "id": "741c217f-d3fb-4eb0-bf81-e5702baa026b",
   "metadata": {},
   "outputs": [
    {
     "name": "stdin",
     "output_type": "stream",
     "text": [
      "mark1 98\n",
      "mark2 87\n",
      "mark3 96\n",
      "mark4 94\n",
      "mark5 93\n"
     ]
    },
    {
     "name": "stdout",
     "output_type": "stream",
     "text": [
      "Subject1=98\n",
      "Subject2=87\n",
      "Subject3=96\n",
      "Subject4=94\n",
      "Subject5=93\n",
      "Total :468\n",
      "Percentage :93.6\n"
     ]
    }
   ],
   "source": [
    "Percentage()"
   ]
  },
  {
   "cell_type": "code",
   "execution_count": 35,
   "id": "11c1013b-2b1c-44db-8baa-cd50dacf8e81",
   "metadata": {},
   "outputs": [],
   "source": [
    "def Percentage(Subject1,Subject2,Subject3,Subject4,Subject5):\n",
    "    Total=Subject1+Subject2+Subject3+Subject4+Subject5\n",
    "    Percentage=Total/5\n",
    "    print(\"Subject1=\"f\"{Subject1}\")\n",
    "    print(\"Subject2=\"f\"{Subject2}\")\n",
    "    print(\"Subject3=\"f\"{Subject3}\")\n",
    "    print(\"Subject4=\"f\"{Subject4}\")\n",
    "    print(\"Subject5=\"f\"{Subject5}\")\n",
    "    print(\"Total :\"f\"{Total}\")\n",
    "    print(\"Percentage :\"f\"{Percentage}\")"
   ]
  },
  {
   "cell_type": "code",
   "execution_count": 36,
   "id": "16d108c2-ffbe-482f-8df8-03e413b506c6",
   "metadata": {},
   "outputs": [
    {
     "name": "stdout",
     "output_type": "stream",
     "text": [
      "Subject1=98\n",
      "Subject2=87\n",
      "Subject3=95\n",
      "Subject4=95\n",
      "Subject5=93\n",
      "Total :468\n",
      "Percentage :93.6\n"
     ]
    }
   ],
   "source": [
    "Percentage(98,87,95,95,93)"
   ]
  },
  {
   "cell_type": "code",
   "execution_count": 40,
   "id": "26415476-42fb-4dc6-863a-ec422384f960",
   "metadata": {},
   "outputs": [
    {
     "name": "stdin",
     "output_type": "stream",
     "text": [
      "Height : 32\n",
      "Breadth : 34\n"
     ]
    },
    {
     "name": "stdout",
     "output_type": "stream",
     "text": [
      "Area Formula: (Height*Breadth)/2\n",
      "Area of Triangle:544.0\n"
     ]
    },
    {
     "name": "stdin",
     "output_type": "stream",
     "text": [
      "Height1 : 2\n",
      "Height2 : 4\n",
      "Breadth1 : 4\n"
     ]
    },
    {
     "name": "stdout",
     "output_type": "stream",
     "text": [
      "Perimeter formula: Height1+Height2+Breadth1\n",
      "perimeter of Triangle:10\n"
     ]
    }
   ],
   "source": [
    "Hgt=int(input(\"Height :\"))\n",
    "Brd=int(input(\"Breadth :\"))\n",
    "ArFrm=(Hgt*Brd)/2\n",
    "print(\"Area Formula: (Height*Breadth)/2\")\n",
    "print(\"Area of Triangle:\"f\"{ArFrm}\")\n",
    "Hgt1=int(input(\"Height1 :\"))\n",
    "Hgt2=int(input(\"Height2 :\"))\n",
    "Brd1=int(input(\"Breadth1 :\"))\n",
    "PerFrm=(Hgt1+Hgt2+Brd1)\n",
    "print(\"Perimeter formula: Height1+Height2+Breadth1\")\n",
    "print(\"perimeter of Triangle:\"f\"{PerFrm}\")"
   ]
  },
  {
   "cell_type": "code",
   "execution_count": 45,
   "id": "dceb521a-3e3b-4662-ac95-24b7b00ea4ac",
   "metadata": {},
   "outputs": [],
   "source": [
    "def triangle():\n",
    "    Hgt=32\n",
    "    Brd=34\n",
    "    ArFrm=(Hgt*Brd)/2\n",
    "    print(\"Height:\"f\"{Hgt}\")\n",
    "    print(\"Breadth:\"f\"{Brd}\")\n",
    "    print(\"Area Formula: (Height*Breadth)/2\")\n",
    "    print(\"Area of Triangle:\"f\"{ArFrm}\")\n",
    "    Hgt1=2\n",
    "    Hgt2=4\n",
    "    Brd1=4\n",
    "    PerFrm=(Hgt1+Hgt2+Brd1)\n",
    "    print(\"Height1:\"f\"{Hgt1}\")\n",
    "    print(\"Height2:\"f\"{Hgt2}\")\n",
    "    print(\"Breadth:\"f\"{Brd1}\")\n",
    "    print(\"Perimeter formula: Height1+Height2+Breadth1\")\n",
    "    print(\"perimeter of Triangle:\"f\"{PerFrm}\")"
   ]
  },
  {
   "cell_type": "code",
   "execution_count": 46,
   "id": "b02b4aad-01dc-4502-8b96-defd242f9c51",
   "metadata": {},
   "outputs": [
    {
     "name": "stdout",
     "output_type": "stream",
     "text": [
      "Height:32\n",
      "Breadth:34\n",
      "Area Formula: (Height*Breadth)/2\n",
      "Area of Triangle:544.0\n",
      "Height1:2\n",
      "Height2:4\n",
      "Breadth:4\n",
      "Perimeter formula: Height1+Height2+Breadth1\n",
      "perimeter of Triangle:10\n"
     ]
    }
   ],
   "source": [
    "triangle()"
   ]
  }
 ],
 "metadata": {
  "kernelspec": {
   "display_name": "Python [conda env:base] *",
   "language": "python",
   "name": "conda-base-py"
  },
  "language_info": {
   "codemirror_mode": {
    "name": "ipython",
    "version": 3
   },
   "file_extension": ".py",
   "mimetype": "text/x-python",
   "name": "python",
   "nbconvert_exporter": "python",
   "pygments_lexer": "ipython3",
   "version": "3.13.5"
  }
 },
 "nbformat": 4,
 "nbformat_minor": 5
}
