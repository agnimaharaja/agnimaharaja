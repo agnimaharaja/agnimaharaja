{
 "cells": [
  {
   "cell_type": "code",
   "execution_count": 2,
   "id": "5861ac84-465f-4b57-acef-a5271ec1e6c9",
   "metadata": {},
   "outputs": [],
   "source": [
    "class munnadifunctions():\n",
    "    def display_subfields():\n",
    "        print(\"Sub-fields in AI are:\")\n",
    "        print(\"Machine Learning\")\n",
    "        print(\"Neural Networks\")\n",
    "        print(\"Vision\")\n",
    "        print(\"Robotics\")\n",
    "        print(\"Speech Processing\")\n",
    "        print(\"Natural Language Processing\")\n",
    "    def OddEven():\n",
    "        num1=int(input(\"Enter a number :\"))\n",
    "        if((num1%2)==0):\n",
    "            print(f\"{num1} is Even number\")\n",
    "        else:\n",
    "            print(f\"{num1} is Odd number\")\n",
    "    def Elegible():\n",
    "        Gen=input(\"Your Gender :\")\n",
    "        Age=int(input(\"Your Age :\"))\n",
    "        if((Gen==\"Male\")&(Age>=21)):\n",
    "            print(\"Elgible\")\n",
    "        elif((Gen==\"Female\")&(Age>=18)):\n",
    "            print(\"Elgible\")\n",
    "        else:\n",
    "            print(\"NOT ELIGIBLE\")\n",
    "    def Percentage(Subject1,Subject2,Subject3,Subject4,Subject5):\n",
    "        Total=Subject1+Subject2+Subject3+Subject4+Subject5\n",
    "        Percentage=Total/5\n",
    "        print(\"Subject1=\"f\"{Subject1}\")\n",
    "        print(\"Subject2=\"f\"{Subject2}\")\n",
    "        print(\"Subject3=\"f\"{Subject3}\")\n",
    "        print(\"Subject4=\"f\"{Subject4}\")\n",
    "        print(\"Subject5=\"f\"{Subject5}\")\n",
    "        print(\"Total :\"f\"{Total}\")\n",
    "        print(\"Percentage :\"f\"{Percentage}\")\n",
    "    def triangle():\n",
    "        Hgt=32\n",
    "        Brd=34\n",
    "        ArFrm=(Hgt*Brd)/2\n",
    "        print(\"Height:\"f\"{Hgt}\")\n",
    "        print(\"Breadth:\"f\"{Brd}\")\n",
    "        print(\"Area Formula: (Height*Breadth)/2\")\n",
    "        print(\"Area of Triangle:\"f\"{ArFrm}\")\n",
    "        Hgt1=2\n",
    "        Hgt2=4\n",
    "        Brd1=4\n",
    "        PerFrm=(Hgt1+Hgt2+Brd1)\n",
    "        print(\"Height1:\"f\"{Hgt1}\")\n",
    "        print(\"Height2:\"f\"{Hgt2}\")\n",
    "        print(\"Breadth:\"f\"{Brd1}\")\n",
    "        print(\"Perimeter formula: Height1+Height2+Breadth1\")\n",
    "        print(\"perimeter of Triangle:\"f\"{PerFrm}\")"
   ]
  },
  {
   "cell_type": "code",
   "execution_count": 3,
   "id": "c4f619b8-f968-48a8-8fa4-095fe2594b97",
   "metadata": {},
   "outputs": [
    {
     "name": "stdout",
     "output_type": "stream",
     "text": [
      "Sub-fields in AI are:\n",
      "Machine Learning\n",
      "Neural Networks\n",
      "Vision\n",
      "Robotics\n",
      "Speech Processing\n",
      "Natural Language Processing\n"
     ]
    }
   ],
   "source": [
    "munnadifunctions.display_subfields()"
   ]
  },
  {
   "cell_type": "code",
   "execution_count": 5,
   "id": "d83a10da-1951-4b4f-903e-f0ff37237154",
   "metadata": {},
   "outputs": [
    {
     "name": "stdin",
     "output_type": "stream",
     "text": [
      "Enter a number : 52452\n"
     ]
    },
    {
     "name": "stdout",
     "output_type": "stream",
     "text": [
      "52452 is Even number\n"
     ]
    }
   ],
   "source": [
    "munnadifunctions.OddEven()"
   ]
  },
  {
   "cell_type": "code",
   "execution_count": 6,
   "id": "a2c6a3d8-4213-4eea-bce0-353d8b200d5d",
   "metadata": {},
   "outputs": [
    {
     "name": "stdin",
     "output_type": "stream",
     "text": [
      "Your Gender : Male\n",
      "Your Age : 20\n"
     ]
    },
    {
     "name": "stdout",
     "output_type": "stream",
     "text": [
      "NOT ELIGIBLE\n"
     ]
    }
   ],
   "source": [
    "munnadifunctions.Elegible()"
   ]
  },
  {
   "cell_type": "code",
   "execution_count": 8,
   "id": "5dd3df06-aa68-4790-ab25-5043dbd51893",
   "metadata": {},
   "outputs": [
    {
     "name": "stdout",
     "output_type": "stream",
     "text": [
      "Subject1=98\n",
      "Subject2=87\n",
      "Subject3=95\n",
      "Subject4=95\n",
      "Subject5=93\n",
      "Total :468\n",
      "Percentage :93.6\n"
     ]
    }
   ],
   "source": [
    "munnadifunctions.Percentage(98,87,95,95,93)"
   ]
  },
  {
   "cell_type": "code",
   "execution_count": 9,
   "id": "5d29428f-126c-420c-81d7-c89e1ec61eda",
   "metadata": {},
   "outputs": [
    {
     "name": "stdout",
     "output_type": "stream",
     "text": [
      "Height:32\n",
      "Breadth:34\n",
      "Area Formula: (Height*Breadth)/2\n",
      "Area of Triangle:544.0\n",
      "Height1:2\n",
      "Height2:4\n",
      "Breadth:4\n",
      "Perimeter formula: Height1+Height2+Breadth1\n",
      "perimeter of Triangle:10\n"
     ]
    }
   ],
   "source": [
    "munnadifunctions.triangle()"
   ]
  }
 ],
 "metadata": {
  "kernelspec": {
   "display_name": "Python [conda env:base] *",
   "language": "python",
   "name": "conda-base-py"
  },
  "language_info": {
   "codemirror_mode": {
    "name": "ipython",
    "version": 3
   },
   "file_extension": ".py",
   "mimetype": "text/x-python",
   "name": "python",
   "nbconvert_exporter": "python",
   "pygments_lexer": "ipython3",
   "version": "3.13.5"
  }
 },
 "nbformat": 4,
 "nbformat_minor": 5
}
